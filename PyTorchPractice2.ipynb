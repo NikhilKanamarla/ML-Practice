{
  "nbformat": 4,
  "nbformat_minor": 0,
  "metadata": {
    "colab": {
      "name": "PyTorchPractice2.ipynb",
      "provenance": [],
      "mount_file_id": "1yDLDyb52mf5gE5uRz5F2U-NPsGRUSjlq",
      "authorship_tag": "ABX9TyNHSb5NHaeYMb32Wb5k98dC",
      "include_colab_link": true
    },
    "kernelspec": {
      "name": "python3",
      "display_name": "Python 3"
    },
    "accelerator": "GPU"
  },
  "cells": [
    {
      "cell_type": "markdown",
      "metadata": {
        "id": "view-in-github",
        "colab_type": "text"
      },
      "source": [
        "<a href=\"https://colab.research.google.com/github/NikhilKanamarla/ML-Practice/blob/master/PyTorchPractice2.ipynb\" target=\"_parent\"><img src=\"https://colab.research.google.com/assets/colab-badge.svg\" alt=\"Open In Colab\"/></a>"
      ]
    },
    {
      "cell_type": "markdown",
      "metadata": {
        "id": "z-bcLqbe1gn1"
      },
      "source": [
        "Intro to the torch tensor"
      ]
    },
    {
      "cell_type": "code",
      "metadata": {
        "colab": {
          "base_uri": "https://localhost:8080/"
        },
        "id": "TobcNcQ6ok8J",
        "outputId": "f90e5afe-c188-4ccf-e8c8-52a17073405e"
      },
      "source": [
        "import torch\n",
        "#run terminal commands\n",
        "!nvidia-smi\n",
        "x = torch.empty(1)\n",
        "z = torch.zeros(2,3)\n",
        "print(x)\n",
        "print(z)\n",
        "#an array of data which runs well on the GPU\n",
        "x = torch.Tensor([5,3])\n",
        "print (x * x)\n",
        "y = torch.zeros([2,5])\n",
        "print(y)\n",
        "#check size of tensor\n",
        "print(y.shape)\n",
        "#random initalization\n",
        "y = torch.rand(2,5)\n",
        "print(y)\n",
        "#reshape tensor to fit input shape of neural network\n",
        "y = y.view([1,10])\n",
        "print(y.shape)"
      ],
      "execution_count": 4,
      "outputs": [
        {
          "output_type": "stream",
          "text": [
            "Tue Nov 24 17:35:26 2020       \n",
            "+-----------------------------------------------------------------------------+\n",
            "| NVIDIA-SMI 455.38       Driver Version: 418.67       CUDA Version: 10.1     |\n",
            "|-------------------------------+----------------------+----------------------+\n",
            "| GPU  Name        Persistence-M| Bus-Id        Disp.A | Volatile Uncorr. ECC |\n",
            "| Fan  Temp  Perf  Pwr:Usage/Cap|         Memory-Usage | GPU-Util  Compute M. |\n",
            "|                               |                      |               MIG M. |\n",
            "|===============================+======================+======================|\n",
            "|   0  Tesla T4            Off  | 00000000:00:04.0 Off |                    0 |\n",
            "| N/A   48C    P8    10W /  70W |      0MiB / 15079MiB |      0%      Default |\n",
            "|                               |                      |                 ERR! |\n",
            "+-------------------------------+----------------------+----------------------+\n",
            "                                                                               \n",
            "+-----------------------------------------------------------------------------+\n",
            "| Processes:                                                                  |\n",
            "|  GPU   GI   CI        PID   Type   Process name                  GPU Memory |\n",
            "|        ID   ID                                                   Usage      |\n",
            "|=============================================================================|\n",
            "|  No running processes found                                                 |\n",
            "+-----------------------------------------------------------------------------+\n",
            "tensor([9.9591e-36])\n",
            "tensor([[0., 0., 0.],\n",
            "        [0., 0., 0.]])\n",
            "tensor([25.,  9.])\n",
            "tensor([[0., 0., 0., 0., 0.],\n",
            "        [0., 0., 0., 0., 0.]])\n",
            "torch.Size([2, 5])\n",
            "tensor([[0.9835, 0.6031, 0.5135, 0.8401, 0.2756],\n",
            "        [0.5250, 0.3820, 0.7220, 0.5554, 0.0044]])\n",
            "torch.Size([1, 10])\n"
          ],
          "name": "stdout"
        }
      ]
    },
    {
      "cell_type": "markdown",
      "metadata": {
        "id": "JEqr9f3q1bBg"
      },
      "source": [
        "Data in PyTorch Part 1"
      ]
    },
    {
      "cell_type": "code",
      "metadata": {
        "colab": {
          "base_uri": "https://localhost:8080/",
          "height": 1000
        },
        "id": "Ww87BeZO3B56",
        "outputId": "dbc05e8d-a6bc-4786-e9c2-405a0c7204c9"
      },
      "source": [
        "import torch\n",
        "import torchvision\n",
        "from torchvision import transforms, datasets\n",
        "\n",
        "#get datasets using torchvision.datasets transforms are application applied to data (transforms conversion to tensors)\n",
        "train = torchvision.datasets.MNIST(\"\", train=True, download=True,transform=transforms.Compose([transforms.ToTensor()]))\n",
        "test = torchvision.datasets.MNIST(\"\", train=False, download=True,transform=transforms.Compose([transforms.ToTensor()]))\n",
        "#store in data loader, batch size is how many samples is passed through the model at once (in GPU memory), best batch size is between 8-64\n",
        "#shuffling avoids feeding too much of one kind of image and leads to more generalization \n",
        "trainset = torch.utils.data.DataLoader(train,batch_size=10,shuffle=True)\n",
        "testset = torch.utils.data.DataLoader(test,batch_size=10,shuffle=True)\n",
        "#iterating over dataset, prints the batch of size 10 of tensor of tensors for images (image of digit) and then a tensor of tensors output of labels (digits) \n",
        "for data in trainset:\n",
        "  print(data)\n",
        "  break\n",
        "#print an individual image and visualize \n",
        "x,y = data[0][0], data[1][0]\n",
        "import matplotlib.pyplot as plt\n",
        "#default shape doesn't work for matplotlib so we need to resize\n",
        "print(x.shape)\n",
        "plt.imshow(x.view(28,28))\n",
        "#A dataset should be balanced such that every type of image is equally distributed and it avoid the model from cheating or overfitting \n",
        "total = 0\n",
        "counter_imageType = {0:0,1:0,2:0,3:0,4:0,5:0,6:0,7:0,8:0,9:0}\n",
        "for data in trainset:\n",
        "  x, y = data\n",
        "  for y1 in y:\n",
        "    counter_imageType[int(y1)] +=1\n",
        "#gives distribution of images \n",
        "print(\"distribution of images\", counter_imageType)"
      ],
      "execution_count": 5,
      "outputs": [
        {
          "output_type": "stream",
          "text": [
            "[tensor([[[[0., 0., 0.,  ..., 0., 0., 0.],\n",
            "          [0., 0., 0.,  ..., 0., 0., 0.],\n",
            "          [0., 0., 0.,  ..., 0., 0., 0.],\n",
            "          ...,\n",
            "          [0., 0., 0.,  ..., 0., 0., 0.],\n",
            "          [0., 0., 0.,  ..., 0., 0., 0.],\n",
            "          [0., 0., 0.,  ..., 0., 0., 0.]]],\n",
            "\n",
            "\n",
            "        [[[0., 0., 0.,  ..., 0., 0., 0.],\n",
            "          [0., 0., 0.,  ..., 0., 0., 0.],\n",
            "          [0., 0., 0.,  ..., 0., 0., 0.],\n",
            "          ...,\n",
            "          [0., 0., 0.,  ..., 0., 0., 0.],\n",
            "          [0., 0., 0.,  ..., 0., 0., 0.],\n",
            "          [0., 0., 0.,  ..., 0., 0., 0.]]],\n",
            "\n",
            "\n",
            "        [[[0., 0., 0.,  ..., 0., 0., 0.],\n",
            "          [0., 0., 0.,  ..., 0., 0., 0.],\n",
            "          [0., 0., 0.,  ..., 0., 0., 0.],\n",
            "          ...,\n",
            "          [0., 0., 0.,  ..., 0., 0., 0.],\n",
            "          [0., 0., 0.,  ..., 0., 0., 0.],\n",
            "          [0., 0., 0.,  ..., 0., 0., 0.]]],\n",
            "\n",
            "\n",
            "        ...,\n",
            "\n",
            "\n",
            "        [[[0., 0., 0.,  ..., 0., 0., 0.],\n",
            "          [0., 0., 0.,  ..., 0., 0., 0.],\n",
            "          [0., 0., 0.,  ..., 0., 0., 0.],\n",
            "          ...,\n",
            "          [0., 0., 0.,  ..., 0., 0., 0.],\n",
            "          [0., 0., 0.,  ..., 0., 0., 0.],\n",
            "          [0., 0., 0.,  ..., 0., 0., 0.]]],\n",
            "\n",
            "\n",
            "        [[[0., 0., 0.,  ..., 0., 0., 0.],\n",
            "          [0., 0., 0.,  ..., 0., 0., 0.],\n",
            "          [0., 0., 0.,  ..., 0., 0., 0.],\n",
            "          ...,\n",
            "          [0., 0., 0.,  ..., 0., 0., 0.],\n",
            "          [0., 0., 0.,  ..., 0., 0., 0.],\n",
            "          [0., 0., 0.,  ..., 0., 0., 0.]]],\n",
            "\n",
            "\n",
            "        [[[0., 0., 0.,  ..., 0., 0., 0.],\n",
            "          [0., 0., 0.,  ..., 0., 0., 0.],\n",
            "          [0., 0., 0.,  ..., 0., 0., 0.],\n",
            "          ...,\n",
            "          [0., 0., 0.,  ..., 0., 0., 0.],\n",
            "          [0., 0., 0.,  ..., 0., 0., 0.],\n",
            "          [0., 0., 0.,  ..., 0., 0., 0.]]]]), tensor([7, 3, 7, 8, 3, 4, 6, 7, 6, 0])]\n",
            "torch.Size([1, 28, 28])\n",
            "distribution of images {0: 5923, 1: 6742, 2: 5958, 3: 6131, 4: 5842, 5: 5421, 6: 5918, 7: 6265, 8: 5851, 9: 5949}\n"
          ],
          "name": "stdout"
        },
        {
          "output_type": "display_data",
          "data": {
            "image/png": "[encoded data removed]",
            "text/plain": [
              "<Figure size 432x288 with 1 Axes>"
            ]
          },
          "metadata": {
            "tags": [],
            "needs_background": "light"
          }
        }
      ]
    },
    {
      "cell_type": "code",
      "metadata": {
        "id": "-QqXqRFLsmGy",
        "colab": {
          "base_uri": "https://localhost:8080/"
        },
        "outputId": "f4ed55a6-127b-406a-b665-aac75789425b"
      },
      "source": [
        "#Building a machine learning model\n",
        "import torch\n",
        "import torch.nn as nn\n",
        "import torch.nn.functional as F\n",
        "import torchvision\n",
        "from torchvision import transforms, datasets\n",
        "\n",
        "#neural network class\n",
        "class Net(nn.Module):\n",
        "  #intialize class\n",
        "  def __init__(self):\n",
        "    super().__init__()\n",
        "    #feedforward neural network passes data from input layer to output layer\n",
        "    #fully connected layer with input shape of 28*28 pixels (flatten image to one row) and output feature is size 64. Linear means flat layer\n",
        "    self.fc1 = nn.Linear(28*28,64)\n",
        "    #feed in data from fc1 to fc2\n",
        "    self.fc2 = nn.Linear(64,64)\n",
        "    self.fc3 = nn.Linear(64,64)\n",
        "    #output layer has input 64 and output of size 10 to represent 10 classes in MNIST\n",
        "    self.fc4 = nn.Linear(64,10)\n",
        "  #forward pass through the data \n",
        "  def forward(self, x):\n",
        "    #relu is activation function and performs operation on input data\n",
        "    #input and output dimenson of relu are the same\n",
        "    x = F.relu(self.fc1(x))\n",
        "    x = F.relu(self.fc2(x))\n",
        "    x = F.relu(self.fc3(x))\n",
        "    #softmax function gets probability distribution for each class adding up to 1 for output layer\n",
        "    x = F.softmax(self.fc4(x), dim=1)\n",
        "    return x\n",
        "\n",
        "#declare a model\n",
        "net = Net()\n",
        "#print(net)\n",
        "#passing in random data\n",
        "x = torch.rand(28,28)\n",
        "#resize to represent input shape (batch size, input x, input y)\n",
        "x = x.view(-1,28,28)\n",
        "#print(x)\n",
        "\n",
        "#optmizer adjusts neural network based on error calculation\n",
        "import torch.optim as optim \n",
        "#net.parameters() means all the adjustable parts of the neural network, learning rate is amount of change (we don't want model to swerve based on one train case)\n",
        "optimizer = optim.Adam(net.parameters(),lr=0.001)\n",
        "\n",
        "#full pass through data is epoch\n",
        "#activates dropout and batch norm\n",
        "net.train()\n",
        "EPOCHS = 3\n",
        "for epoch in range(EPOCHS):\n",
        "  #data is a batch of data in the training set\n",
        "  for data in trainset:\n",
        "    #split into features and labels\n",
        "    features, labels = data\n",
        "\n",
        "    #reset the gradient for next passes to avoid convoluting the results of multiple backpropogations \n",
        "    #(gradients contains the loss with respect to trainable parameters)\n",
        "    net.zero_grad()\n",
        "    #pass data into network (make sure input shape matches)\n",
        "    output = net(features.view(-1,28*28))\n",
        "    #compute error (output,expected)\n",
        "    loss = F.nll_loss(output,labels)\n",
        "    #backpropogate loss through trainiable parameters of model and calculate gradients \n",
        "    loss.backward()\n",
        "    #adjust neural network\n",
        "    optimizer.step()\n",
        "  print(\"loss is \", loss)\n",
        "\n",
        "#evaluate accuracy of model\n",
        "correct = 0\n",
        "total = 0\n",
        "#deactivates batch norm and dropout\n",
        "net.eval()\n",
        "#deactivates calculating gradients \n",
        "with torch.no_grad():\n",
        "  for data in trainset:\n",
        "    images, labels = data\n",
        "    output = net(images.view(-1,784))\n",
        "    correct += output.argmax(dim=1).eq(labels).sum().item()\n",
        "    total += len(labels)\n",
        "print(\"Accuracy \", round(correct/total,3))"
      ],
      "execution_count": 15,
      "outputs": [
        {
          "output_type": "stream",
          "text": [
            "tensor(-0.8829, grad_fn=<NllLossBackward>)\n",
            "tensor(-0.9000, grad_fn=<NllLossBackward>)\n",
            "tensor(-1., grad_fn=<NllLossBackward>)\n",
            "Accuracy  0.946\n"
          ],
          "name": "stdout"
        }
      ]
    },
    {
      "cell_type": "code",
      "metadata": {
        "colab": {
          "base_uri": "https://localhost:8080/",
          "height": 265
        },
        "id": "Qnpdn3iQfJci",
        "outputId": "918f05f2-6f7a-4c77-a08e-dde26995c007"
      },
      "source": [
        "#visualization\n",
        "import matplotlib.pyplot as plt\n",
        "plt.imshow(images[1].view(28,28))\n",
        "plt.show()"
      ],
      "execution_count": 27,
      "outputs": [
        {
          "output_type": "display_data",
          "data": {
            "image/png": "[encoded data removed]",
            "text/plain": [
              "<Figure size 432x288 with 1 Axes>"
            ]
          },
          "metadata": {
            "tags": [],
            "needs_background": "light"
          }
        }
      ]
    }
  ]
}